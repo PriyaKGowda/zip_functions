{
 "cells": [
  {
   "cell_type": "code",
   "execution_count": 5,
   "metadata": {},
   "outputs": [],
   "source": [
    "list1 = [1,2,3,4,5]\n",
    "list2 = ['one','two','three','four','five']\n",
    "       # excess things are truncated\n",
    "       #We need matching numbers in the list or tuples"
   ]
  },
  {
   "cell_type": "code",
   "execution_count": 4,
   "metadata": {},
   "outputs": [
    {
     "name": "stdout",
     "output_type": "stream",
     "text": [
      "[(1, 'one'), (2, 'two'), (3, 'three'), (4, 'four'), (5, 'five')]\n"
     ]
    }
   ],
   "source": [
    "zipped = list(zip(list1,list2))\n",
    "print(zipped)"
   ]
  },
  {
   "cell_type": "code",
   "execution_count": 7,
   "metadata": {},
   "outputs": [
    {
     "name": "stdout",
     "output_type": "stream",
     "text": [
      "[(1, 2, 3, 4, 5), ('one', 'two', 'three', 'four', 'five')]\n"
     ]
    }
   ],
   "source": [
    "unzipped = list(zip(*zipped))\n",
    "print(unzipped)\n",
    "   # tis resulted in tuple"
   ]
  },
  {
   "cell_type": "code",
   "execution_count": 8,
   "metadata": {},
   "outputs": [
    {
     "name": "stdout",
     "output_type": "stream",
     "text": [
      "1\n",
      "one\n",
      "2\n",
      "two\n",
      "3\n",
      "three\n",
      "4\n",
      "four\n",
      "5\n",
      "five\n"
     ]
    }
   ],
   "source": [
    "for (l1,l2) in zip(list1,list2):\n",
    "    print(l1)\n",
    "    print(l2)\n"
   ]
  },
  {
   "cell_type": "code",
   "execution_count": 10,
   "metadata": {},
   "outputs": [
    {
     "name": "stdout",
     "output_type": "stream",
     "text": [
      "['I bought 3 apples at 0.99 cents each', 'I bought 5 bananas at 0.55 cents each', 'I bought 4 oranges at 0.45 cents each']\n"
     ]
    }
   ],
   "source": [
    "items = ['apple','banana','orange']\n",
    "counts = [3,5,4]\n",
    "prices = [0.99,0.55,0.45]\n",
    "\n",
    "sentences = []\n",
    "\n",
    "for (item,count,price) in zip(items,counts,prices):\n",
    "    sentence = 'I bought '+ str(count) +' '+ str(item) + 's at ' + str(price) + ' cents each'\n",
    "    sentences.append(sentence)\n",
    "print(sentences)"
   ]
  },
  {
   "cell_type": "code",
   "execution_count": null,
   "metadata": {},
   "outputs": [],
   "source": []
  }
 ],
 "metadata": {
  "kernelspec": {
   "display_name": "Python 3",
   "language": "python",
   "name": "python3"
  },
  "language_info": {
   "codemirror_mode": {
    "name": "ipython",
    "version": 3
   },
   "file_extension": ".py",
   "mimetype": "text/x-python",
   "name": "python",
   "nbconvert_exporter": "python",
   "pygments_lexer": "ipython3",
   "version": "3.8.5"
  }
 },
 "nbformat": 4,
 "nbformat_minor": 4
}
